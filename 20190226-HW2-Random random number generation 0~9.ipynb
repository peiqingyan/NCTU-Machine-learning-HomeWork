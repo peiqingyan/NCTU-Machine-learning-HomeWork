{
 "cells": [
  {
   "cell_type": "code",
   "execution_count": 125,
   "metadata": {},
   "outputs": [
    {
     "name": "stdout",
     "output_type": "stream",
     "text": [
      "4\n",
      "0\n",
      "7\n",
      "3\n",
      "9\n",
      "5\n",
      "6\n",
      "2\n",
      "1\n",
      "8\n"
     ]
    }
   ],
   "source": [
    "# 作業練習 - Python 0-9 隨機不重複印出\n",
    "import random as X #匯入隨機函數於 X\n",
    "a=0 #最小隨機數\n",
    "b=9 #最大隨機數\n",
    "Y=[x for x in range(0,10)]#數字範圍：0~9\n",
    "for i in range(0,count,1): # 迴圈跑10次   \n",
    "    count=10 #印出數量\n",
    "    F=X.randint(a,b) # 隨機取 a 到 b 其中一個的值\n",
    "    print(Y[F]) # 印出選出位置的值\n",
    "    Y[F]=Y[b] #將印出的值,回傳到最後一個位置\n",
    "    b-=1 #每印出一次,及刪除最後一個位置"
   ]
  },
  {
   "cell_type": "code",
   "execution_count": 146,
   "metadata": {},
   "outputs": [
    {
     "name": "stdout",
     "output_type": "stream",
     "text": [
      "2\n",
      "1\n",
      "3\n",
      "8\n",
      "4\n",
      "9\n",
      "7\n",
      "6\n",
      "0\n",
      "5\n"
     ]
    }
   ],
   "source": [
    "# Python 0-9 隨機不重複印出 (遞歸生成)\n",
    "import random;\n",
    "resultList=[]; #List結果存放\n",
    "A=0; #最小隨機數\n",
    "B=9 #最大隨機數\n",
    "COUNT=10 #當前準備要生成的第幾個有效隨機數\n",
    "def generateRand(counter): \n",
    "    tempInt=random.randint(A,B); #生成一個範圍內的臨時隨機數，\n",
    "    if(counter<=COUNT): #先看随机数的总个数是不是够了，如果不够\n",
    "        if(tempInt not in resultList): #先看隨機數的總個數是不是夠了，如果不夠\n",
    "            resultList.append(tempInt); #則將其追加到結果List中\n",
    "            counter+=1; #將有效結果的個數加1. (臨時隨機數已經存在，if不成立)，那麼將直接執行16行，counter不用再加 1\n",
    "        generateRand(counter); #強制遞歸。若臨時隨機數有效，conter加1，若臨時隨機數已存在，重新再生成一次隨機數,counter不能變化\n",
    "generateRand(1); #調用遞歸函數，並給當前要生成的有效隨機數的個序號置為1，因為要從第一個開始\n",
    "for x in resultList: #印出结果\n",
    "    print(x)"
   ]
  },
  {
   "cell_type": "code",
   "execution_count": 147,
   "metadata": {},
   "outputs": [
    {
     "name": "stdout",
     "output_type": "stream",
     "text": [
      "1\n",
      "8\n",
      "0\n",
      "3\n",
      "9\n",
      "7\n",
      "5\n",
      "2\n",
      "4\n",
      "6\n"
     ]
    }
   ],
   "source": [
    "import random;\n",
    "#2、利用Python中的randomw.sample()函數實現\n",
    "# sample(x,y)函數的​​作用是從序列x中，隨機選擇y個不重複的元素。上面的方法寫了那麼多，其實Python一句話就完成了。\n",
    "resultList=random.sample(range(0,9+1),10);\n",
    "for x in resultList: #印出结果\n",
    "    print(x)"
   ]
  }
 ],
 "metadata": {
  "kernelspec": {
   "display_name": "Python 3",
   "language": "python",
   "name": "python3"
  },
  "language_info": {
   "codemirror_mode": {
    "name": "ipython",
    "version": 3
   },
   "file_extension": ".py",
   "mimetype": "text/x-python",
   "name": "python",
   "nbconvert_exporter": "python",
   "pygments_lexer": "ipython3",
   "version": "3.7.3"
  }
 },
 "nbformat": 4,
 "nbformat_minor": 2
}
