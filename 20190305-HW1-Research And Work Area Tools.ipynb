{
 "cells": [
  {
   "cell_type": "markdown",
   "metadata": {},
   "source": [
    "# `Research and Work Area Tools`"
   ]
  },
  {
   "cell_type": "markdown",
   "metadata": {},
   "source": [
    "# `￭ 工作領域所需的檢驗項目`\n",
    "\n",
    "# `￭ 陶瓷線路基板&封裝` \n",
    "我材料、市場開發、設計、全製程、封裝、皆很熟；專業是LTCC及各種印刷雷射製程。\n",
    "* [檢驗項目]：外觀檢查、外型尺寸、導體線寬、切片、吃錫耐性錫、信賴性試驗(高溫高濕、冷熱衝擊)、表面粗糙、膜厚、附著力、推拉力、硬度等等。\n",
    "* [使用工具]：顯微鏡、晶像、表面粗度計、推拉力機、游標卡尺、厚薄規、2次元、3次元、XRD、SAT、SEM、TEM、示波器、測溫器等等。\n",
    "\n",
    "# `￭ 博士班研究主題`\n",
    "* 以UVC-265um波段的光源為研究基礎，使用UVB搭配奈米光觸媒，看是否能夠製造出同等殺菌能力的搭配。\n",
    "\n",
    "# `￭ 可能會需要運用到機器學習輔助研究的項目`\n",
    "* 以二氧化鈦做基礎研究驗證，基礎材料搭配各種光源，觀察細節做一個報表整理及找趨勢。\n",
    "* 看不同基礎材料與各種光源的能隙(band gap)之間的表現，做一個報表整理及找趨勢。\n",
    "* 用薄膜濺鍍製程找出最佳光觸媒的配方，觀察band gap的表現能力。\n",
    "* 用石英玻璃搭配流體力學結構設計提升最佳的殺菌效果，使用機器學習建模模擬。"
   ]
  }
 ],
 "metadata": {
  "kernelspec": {
   "display_name": "Python 3",
   "language": "python",
   "name": "python3"
  },
  "language_info": {
   "codemirror_mode": {
    "name": "ipython",
    "version": 3
   },
   "file_extension": ".py",
   "mimetype": "text/x-python",
   "name": "python",
   "nbconvert_exporter": "python",
   "pygments_lexer": "ipython3",
   "version": "3.7.3"
  }
 },
 "nbformat": 4,
 "nbformat_minor": 2
}
