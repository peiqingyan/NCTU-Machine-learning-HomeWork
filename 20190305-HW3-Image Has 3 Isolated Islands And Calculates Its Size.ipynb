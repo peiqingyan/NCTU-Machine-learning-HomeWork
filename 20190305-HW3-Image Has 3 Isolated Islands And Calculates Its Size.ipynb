{
 "cells": [
  {
   "cell_type": "code",
   "execution_count": 1,
   "metadata": {},
   "outputs": [],
   "source": [
    "%matplotlib inline\n",
    "import numpy as np\n",
    "import matplotlib.pyplot as plt # 視覺化圖形"
   ]
  },
  {
   "cell_type": "code",
   "execution_count": 2,
   "metadata": {},
   "outputs": [],
   "source": [
    "# image data\n",
    "x = [[0,0,0,0,0,0,0,0,0,0],\n",
    "     [0,1,1,0,1,0,0,0,1,1],\n",
    "     [0,0,1,1,1,0,1,1,1,1],\n",
    "     [0,0,1,1,0,0,1,1,1,1],\n",
    "     [0,1,1,1,0,0,1,1,1,0],\n",
    "     [0,0,0,0,0,0,0,0,1,0],\n",
    "     [0,0,0,1,1,1,0,0,1,0],\n",
    "     [0,0,0,1,1,1,1,0,0,0],\n",
    "     [0,0,0,0,0,0,1,0,0,0],\n",
    "     [0,0,0,0,0,0,1,0,0,0]]"
   ]
  },
  {
   "cell_type": "code",
   "execution_count": 3,
   "metadata": {},
   "outputs": [
    {
     "data": {
      "text/plain": [
       "array([[0, 0, 0, 0, 0, 0, 0, 0, 0, 0],\n",
       "       [0, 1, 1, 0, 1, 0, 0, 0, 1, 1],\n",
       "       [0, 0, 1, 1, 1, 0, 1, 1, 1, 1],\n",
       "       [0, 0, 1, 1, 0, 0, 1, 1, 1, 1],\n",
       "       [0, 1, 1, 1, 0, 0, 1, 1, 1, 0],\n",
       "       [0, 0, 0, 0, 0, 0, 0, 0, 1, 0],\n",
       "       [0, 0, 0, 1, 1, 1, 0, 0, 1, 0],\n",
       "       [0, 0, 0, 1, 1, 1, 1, 0, 0, 0],\n",
       "       [0, 0, 0, 0, 0, 0, 1, 0, 0, 0],\n",
       "       [0, 0, 0, 0, 0, 0, 1, 0, 0, 0]])"
      ]
     },
     "execution_count": 3,
     "metadata": {},
     "output_type": "execute_result"
    }
   ],
   "source": [
    "n = 10\n",
    "x = np.array(x).reshape(n,n)\n",
    "x"
   ]
  },
  {
   "cell_type": "code",
   "execution_count": 4,
   "metadata": {},
   "outputs": [
    {
     "name": "stdout",
     "output_type": "stream",
     "text": [
      "# 我們假設 1 格面積 = 1 平方公分\n",
      "\n",
      "[第 1 座島]\n",
      "座標位置:  [2, 1]\n",
      "座標位置:  [2, 2]\n",
      "座標位置:  [2, 3]\n",
      "座標位置:  [2, 4]\n",
      "座標位置:  [1, 4]\n",
      "座標位置:  [3, 4]\n",
      "座標位置:  [3, 3]\n",
      "座標位置:  [3, 2]\n",
      "座標位置:  [4, 2]\n",
      "座標位置:  [4, 1]\n",
      "面積 = 11 平方公分\n",
      "\n",
      "[第 2 座島]\n",
      "座標位置:  [8, 2]\n",
      "座標位置:  [8, 3]\n",
      "座標位置:  [8, 4]\n",
      "座標位置:  [8, 5]\n",
      "座標位置:  [8, 6]\n",
      "座標位置:  [7, 4]\n",
      "座標位置:  [6, 4]\n",
      "座標位置:  [6, 3]\n",
      "座標位置:  [6, 2]\n",
      "座標位置:  [7, 3]\n",
      "座標位置:  [9, 3]\n",
      "座標位置:  [7, 2]\n",
      "座標位置:  [9, 2]\n",
      "座標位置:  [9, 1]\n",
      "面積 = 15 平方公分\n",
      "\n",
      "[第 3 座島]\n",
      "座標位置:  [3, 7]\n",
      "座標位置:  [4, 7]\n",
      "座標位置:  [5, 7]\n",
      "座標位置:  [5, 6]\n",
      "座標位置:  [6, 7]\n",
      "座標位置:  [6, 8]\n",
      "座標位置:  [6, 9]\n",
      "座標位置:  [4, 6]\n",
      "面積 = 9 平方公分\n",
      "\n",
      "# 圖片中 => 有 3 座島\n"
     ]
    },
    {
     "data": {
      "text/plain": [
       "<function matplotlib.pyplot.show(*args, **kw)>"
      ]
     },
     "execution_count": 4,
     "metadata": {},
     "output_type": "execute_result"
    },
    {
     "data": {
      "image/png": "[encoded data removed]",
      "text/plain": [
       "<Figure size 432x288 with 1 Axes>"
      ]
     },
     "metadata": {},
     "output_type": "display_data"
    }
   ],
   "source": [
    "print(\"# 我們假設 1 格面積 = 1 平方公分\")\n",
    "y=[]\n",
    "count=0\n",
    "island=0\n",
    "area=0\n",
    "#所有1的位置\n",
    "for i in range(n):\n",
    "    for j in range(n):\n",
    "        if x[i,j]==1:\n",
    "            y.append([j,i])\n",
    "            \n",
    "\n",
    "# 判斷\n",
    "for z in y:\n",
    "    #buffer歸零\n",
    "    buffer=[0]\n",
    "    \n",
    "    #如果checked(2),就跳迴圈\n",
    "    if x[z[1],z[0]]==2:\n",
    "        continue\n",
    "        \n",
    "\n",
    "    print(\"\")\n",
    "    #計算island數量\n",
    "    island+=1\n",
    "    area=0\n",
    "    print(\"[第\",island,\"座島]\")\n",
    "    #初步尋找矩陣值不為零的座標\n",
    "    if z[0]+1!=n: #邊界條件\n",
    "        if x[z[1],z[0]+1]==1: # x+1 位置判斷(往右一格)\n",
    "            x[z[1],z[0]+1]=3\n",
    "            buffer.append([z[0]+1,z[1]])\n",
    "            count+=1\n",
    "    if z[0]-1!=-1:\n",
    "        if x[z[1],z[0]-1]==1: # x-1 位置判斷(往左一格)\n",
    "            x[z[1],z[0]-1]=3\n",
    "            buffer.append([z[0]-1,z[1]])\n",
    "            count+=1\n",
    "    if z[1]+1!=n:\n",
    "        if x[z[1]+1,z[0]]==1: # y+1 位置判斷(往下一格)\n",
    "            x[z[1]+1,z[0]]=3\n",
    "            buffer.append([z[0],z[1]+1])\n",
    "            count+=1\n",
    "    if z[1]-1!=-1:\n",
    "        if x[z[1]-1,z[0]]==1: # y-1 位置判斷(往上一格)\n",
    "            x[z[1]-1,z[0]]=3\n",
    "            buffer.append([z[0],z[1]-1])\n",
    "            count+=1\n",
    "    \n",
    "#將第一個不為零的矩陣位置改為checked\n",
    "    x[z[1],z[0]]=2\n",
    "    area+=1\n",
    "\n",
    "    \n",
    "#增加buffer格數\n",
    "    for l in range(count,n+5):\n",
    "        buffer.append([0,0])\n",
    "#     print(buffer, count)\n",
    "\n",
    "    #buffer功能\n",
    "    while buffer[count]!=0:\n",
    "        area+=1\n",
    "        #目前判斷的位置\n",
    "        print(\"座標位置: \",buffer[count])\n",
    "        #偵測到1的數量\n",
    "        add=0\n",
    "        if buffer[count][0]+1!=n: #邊界條件\n",
    "            if x[buffer[count][1],buffer[count][0]+1]==1: # x+1 位置判斷(往右一格)\n",
    "                x[buffer[count][1],buffer[count][0]+1]=3 #將值命為pulled(3)\n",
    "                add+=1\n",
    "                buffer[count+add]=[buffer[count][0]+1,buffer[count][1]] #往buffer後一格放\n",
    "\n",
    "        if buffer[count][0]-1!=-1:\n",
    "            if x[buffer[count][1],buffer[count][0]-1]==1: # x-1 位置判斷(往左一格)\n",
    "                x[buffer[count][1],buffer[count][0]-1]=3\n",
    "                add+=1\n",
    "                buffer[count+add]=[buffer[count][0]-1,buffer[count][1]]\n",
    "\n",
    "        if buffer[count][1]+1!=n:\n",
    "            if x[buffer[count][1]+1,buffer[count][0]]==1: # y+1 位置判斷(往下一格)\n",
    "                x[buffer[count][1]+1,buffer[count][0]]=3\n",
    "                add+=1\n",
    "                buffer[count+add]=[buffer[count][0],buffer[count][1]+1]\n",
    "\n",
    "        if buffer[count][1]-1!=-1:\n",
    "            if x[buffer[count][1]-1,buffer[count][0]]==1: # y-1 位置判斷(往上一格)\n",
    "                x[buffer[count][1]-1,buffer[count][0]]=3\n",
    "                add+=1\n",
    "                buffer[count+add]=[buffer[count][0],buffer[count][1]-1]\n",
    "\n",
    "            \n",
    "        x[buffer[count][1],buffer[count][0]]=2 #將目前的值令checked(2)\n",
    "\n",
    "        for k in range(count,count+add+1): #將buffer座標全部往前移\n",
    "            buffer[k]=buffer[k+1]\n",
    "        count=count+add-1 #接下來要測的座標\n",
    "\n",
    "    if count==0:\n",
    "        print(\"面積 =\",area,\"平方公分\")\n",
    "        \n",
    "print(\"\")\n",
    "print(\"# 圖片中 => 有\",island,\"座島\")\n",
    "\n",
    "        # https://www.cnblogs.com/denny402/p/5122594.html\n",
    "plt.imshow(x, cmap=plt.cm.gray_r)  #cmap 顏色圖譜  _r 黑白對調\n",
    "plt.xticks(())\n",
    "plt.yticks(())\n",
    "plt.show"
   ]
  },
  {
   "cell_type": "code",
   "execution_count": null,
   "metadata": {},
   "outputs": [],
   "source": []
  }
 ],
 "metadata": {
  "kernelspec": {
   "display_name": "Python 3",
   "language": "python",
   "name": "python3"
  },
  "language_info": {
   "codemirror_mode": {
    "name": "ipython",
    "version": 3
   },
   "file_extension": ".py",
   "mimetype": "text/x-python",
   "name": "python",
   "nbconvert_exporter": "python",
   "pygments_lexer": "ipython3",
   "version": "3.6.8"
  }
 },
 "nbformat": 4,
 "nbformat_minor": 2
}
