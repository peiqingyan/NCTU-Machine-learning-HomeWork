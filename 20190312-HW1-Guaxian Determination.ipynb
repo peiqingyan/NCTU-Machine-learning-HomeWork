{
 "cells": [
  {
   "cell_type": "code",
   "execution_count": 3,
   "metadata": {},
   "outputs": [
    {
     "name": "stdout",
     "output_type": "stream",
     "text": [
      "請輸入x座標-3\n",
      "請輸入y座標1\n",
      "請輸入z座標3\n",
      "座標: (-3, 1, 3)\n",
      "座標在第 4 掛限\n"
     ]
    }
   ],
   "source": [
    "# 作業練習 - Python 掛限判定\n",
    "x=int(input('請輸入x座標'))  #輸入x座標\n",
    "y=int(input('請輸入y座標'))  #輸入y座標\n",
    "z=int(input('請輸入z座標'))  #輸入z座標\n",
    "NO=[x,y,z]  #將xyz設為NO.\n",
    "print('座標:',tuple(NO))\n",
    "def Guaxian(x,y,z): # 定義掛限座標為(x,y,z)\n",
    "    Q1=[abs(x),abs(y),abs(z)] # 定義為第 1 掛限\n",
    "    Q2=[abs(x),-abs(y),abs(z)] # 定義為第 2 掛限\n",
    "    Q3=[-abs(x),-abs(y),abs(z)] # 定義為第 3 掛限\n",
    "    Q4=[-abs(x),abs(y),abs(z)] # 定義為第 4 掛限\n",
    "    Q5=[abs(x),abs(y),-abs(z)] # 定義為第 5 掛限\n",
    "    Q6=[abs(x),-abs(y),-abs(z)] # 定義為第 6 掛限\n",
    "    Q7=[-abs(x),-abs(y),-abs(z)] # 定義為第 7 掛限\n",
    "    Q8=[-abs(x),abs(y),-abs(z)] # 定義為第 8 掛限\n",
    "    A=[Q1,Q2,Q3,Q4,Q5,Q6,Q7,Q8] # 將A設定為8個掛限列表\n",
    "    DMT=[] # 將DMT設定為串列\n",
    "    for list in A:\n",
    "        DMT.append((x+list[0])*(y+list[1])*(z+list[2])) #只有相對掛限的 list有數值\n",
    "    Search=DMT.index((2*x)*(2*y)*(2*z)) #尋找索引位置 ; 第一個是 0\n",
    "    Result=Search+1 #位置 +1 ,為第幾掛限\n",
    "    return Result # 回傳結果\n",
    "print(\"座標在第\",Guaxian(x,y,z),\"掛限\") #(-3,1,3)\n",
    "\n",
    "# 第一卦限 Determinatio=[(2*x*2*y*2*z),0,0,0,0,0,0,0] ...(+,+,+)\n",
    "# 第二卦限 Determinatio=[0,(2*x*2*y*2*z),0,0,0,0,0,0] ...(+,-,+)\n",
    "# 第三卦限 Determinatio=[0,0,(2*x*2*y*2*z),0,0,0,0,0] ...(-,-,+)\n",
    "# 第四卦限 Determinatio=[0,0,0,(2*x*2*y*2*z),0,0,0,0] ...(-,+,+) 此為預設題目(-3,1,3)\n",
    "# 第五卦限 Determinatio=[0,0,0,0,(2*x*2*y*2*z),0,0,0] ...(+,+,-)\n",
    "# 第六卦限 Determinatio=[0,0,0,0,0,(2*x*2*y*2*z),0,0] ...(+,-,-)\n",
    "# 第七卦限 Determinatio=[0,0,0,0,0,0,(2*x*2*y*2*z),0] ...(-,-,-)\n",
    "# 第八卦限 Determinatio=[0,0,0,0,0,0,0,(2*x*2*y*2*z)] ...(-,+,-)"
   ]
  }
 ],
 "metadata": {
  "kernelspec": {
   "display_name": "Python 3",
   "language": "python",
   "name": "python3"
  },
  "language_info": {
   "codemirror_mode": {
    "name": "ipython",
    "version": 3
   },
   "file_extension": ".py",
   "mimetype": "text/x-python",
   "name": "python",
   "nbconvert_exporter": "python",
   "pygments_lexer": "ipython3",
   "version": "3.6.8"
  }
 },
 "nbformat": 4,
 "nbformat_minor": 2
}
