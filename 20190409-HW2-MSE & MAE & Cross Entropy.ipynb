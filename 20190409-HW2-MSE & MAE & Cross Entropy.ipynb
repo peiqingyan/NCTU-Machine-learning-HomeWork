{
 "cells": [
  {
   "cell_type": "markdown",
   "metadata": {},
   "source": [
    "    MSE & MAE & Cross Entropy"
   ]
  },
  {
   "cell_type": "code",
   "execution_count": 1,
   "metadata": {},
   "outputs": [],
   "source": [
    "%matplotlib inline\n",
    "import tensorflow as tf\n",
    "import pandas as pd\n",
    "import scipy.io\n",
    "import matplotlib.pyplot as plt\n",
    "import numpy as np\n",
    "import math"
   ]
  },
  {
   "cell_type": "code",
   "execution_count": 2,
   "metadata": {},
   "outputs": [
    {
     "name": "stdout",
     "output_type": "stream",
     "text": [
      "Error_1s:  [0.6, -0.3, -0.3, -0.3, 0.6, -0.3, 0.5, -0.2, -0.3, -0.6, -0.2, 0.8]\n",
      "[0.6, -0.3, -0.3, -0.3, 0.6, -0.3, 0.5, -0.2, -0.3, -0.6, -0.2, 0.8]\n",
      "Square Error_1:  [0.36, 0.09, 0.09, 0.09, 0.36, 0.09, 0.25, 0.04000000000000001, 0.09, 0.36, 0.04000000000000001, 0.6400000000000001]\n",
      "Absolute Val_1ue of Error_1:  [0.6, 0.3, 0.3, 0.3, 0.6, 0.3, 0.5, 0.2, 0.3, 0.6, 0.2, 0.8]\n",
      "MSE =  0.20833333333333334\n",
      "RMSE =  0.45643546458763845\n",
      "MAE =  0.4166666666666667\n",
      "Target_1 Variance =  0.2222222222222223\n",
      "Target_1 Standard Deviation =  0.47140452079103173\n"
     ]
    }
   ],
   "source": [
    "# Model-1\n",
    "\n",
    "# Observed\n",
    "target_1 = [1,0,0,0,1,0,1,0,0,0,0,1]\n",
    "\n",
    "# Predicted   \n",
    "prediction_1 = [0.4,0.3,0.3,0.3,0.4,0.3,0.5,0.2,0.3,0.6,0.2,0.2]\n",
    "\n",
    "error_1 = []\n",
    "for i in range(len(target_1)):\n",
    "    error_1.append(target_1[i] - prediction_1[i])\n",
    "\n",
    "print(\"Error_1s: \", error_1)\n",
    "print(error_1)\n",
    "\n",
    "squaredError_1 = []\n",
    "absError_1 = []\n",
    "for val_1 in error_1:\n",
    "    squaredError_1.append(val_1 * val_1)#target_1-prediction_1之差平方 \n",
    "    absError_1.append(abs(val_1))#誤差绝對值\n",
    "\n",
    "print(\"Square Error_1: \", squaredError_1)\n",
    "print(\"Absolute Val_1ue of Error_1: \", absError_1) \n",
    " \n",
    "print(\"MSE = \", sum(squaredError_1) / len(squaredError_1))#均方误差MSE\n",
    " \n",
    "from math import sqrt\n",
    "print(\"RMSE = \", sqrt(sum(squaredError_1) / len(squaredError_1)))#均方根誤差RMSE\n",
    "print(\"MAE = \", sum(absError_1) / len(absError_1))#平均绝對誤差MAE\n",
    "  \n",
    "target_1Deviation = []\n",
    "target_1Mean = sum(target_1) / len(target_1)#target_1平均值\n",
    "for val_1 in target_1:\n",
    "    target_1Deviation.append((val_1 - target_1Mean) * (val_1 - target_1Mean))\n",
    "print(\"Target_1 Variance = \", sum(target_1Deviation) / len(target_1Deviation))#方差\n",
    "\n",
    "print(\"Target_1 Standard Deviation = \", sqrt(sum(target_1Deviation) / len(target_1Deviation)))#標準差\n"
   ]
  },
  {
   "cell_type": "code",
   "execution_count": 3,
   "metadata": {},
   "outputs": [
    {
     "name": "stdout",
     "output_type": "stream",
     "text": [
      "Error_2s:  [0.19999999999999996, -0.1, -0.1, -0.1, 0.30000000000000004, -0.2, 0.30000000000000004, -0.1, -0.2, -0.4, -0.3, 0.7]\n",
      "[0.19999999999999996, -0.1, -0.1, -0.1, 0.30000000000000004, -0.2, 0.30000000000000004, -0.1, -0.2, -0.4, -0.3, 0.7]\n",
      "Square Error_2:  [0.03999999999999998, 0.010000000000000002, 0.010000000000000002, 0.010000000000000002, 0.09000000000000002, 0.04000000000000001, 0.09000000000000002, 0.010000000000000002, 0.04000000000000001, 0.16000000000000003, 0.09, 0.48999999999999994]\n",
      "Absolute Val_2ue of Error_2:  [0.19999999999999996, 0.1, 0.1, 0.1, 0.30000000000000004, 0.2, 0.30000000000000004, 0.1, 0.2, 0.4, 0.3, 0.7]\n",
      "MSE =  0.09000000000000001\n",
      "RMSE =  0.30000000000000004\n",
      "MAE =  0.25\n",
      "Target_2 Variance =  0.2222222222222223\n",
      "Target_2 Standard Deviation =  0.47140452079103173\n"
     ]
    }
   ],
   "source": [
    "# Model-2\n",
    "\n",
    "# Observed\n",
    "target_2 = [1,0,0,0,1,0,1,0,0,0,0,1]\n",
    "\n",
    "# Predicted   \n",
    "prediction_2 = [0.8,0.1,0.1,0.1,0.7,0.2,0.7,0.1,0.2,0.4,0.3,0.3]\n",
    "\n",
    "error_2 = []\n",
    "for i in range(len(target_2)):\n",
    "    error_2.append(target_2[i] - prediction_2[i])\n",
    "\n",
    "print(\"Error_2s: \", error_2)\n",
    "print(error_2)\n",
    "\n",
    "squaredError_2 = []\n",
    "absError_2 = []\n",
    "for val_2 in error_2:\n",
    "    squaredError_2.append(val_2 * val_2)#target_2-prediction_2之差平方 \n",
    "    absError_2.append(abs(val_2))#誤差绝對值\n",
    "\n",
    "print(\"Square Error_2: \", squaredError_2)\n",
    "print(\"Absolute Val_2ue of Error_2: \", absError_2) \n",
    " \n",
    "print(\"MSE = \", sum(squaredError_2) / len(squaredError_2))#均方误差MSE\n",
    " \n",
    "from math import sqrt\n",
    "print(\"RMSE = \", sqrt(sum(squaredError_2) / len(squaredError_2)))#均方根誤差RMSE\n",
    "print(\"MAE = \", sum(absError_2) / len(absError_2))#平均绝對誤差MAE\n",
    "  \n",
    "target_2Deviation = []\n",
    "target_2Mean = sum(target_2) / len(target_2)#target_2平均值\n",
    "for val_2 in target_2:\n",
    "    target_2Deviation.append((val_2 - target_2Mean) * (val_2 - target_2Mean))\n",
    "print(\"Target_2 Variance = \", sum(target_2Deviation) / len(target_2Deviation))#方差\n",
    "\n",
    "print(\"Target_2 Standard Deviation = \", sqrt(sum(target_2Deviation) / len(target_2Deviation)))#標準差\n"
   ]
  },
  {
   "cell_type": "code",
   "execution_count": 4,
   "metadata": {},
   "outputs": [
    {
     "name": "stdout",
     "output_type": "stream",
     "text": [
      "WARNING:tensorflow:From C:\\Users\\peiqi\\Anaconda3\\envs\\Rookie\\lib\\site-packages\\tensorflow\\python\\framework\\op_def_library.py:263: colocate_with (from tensorflow.python.framework.ops) is deprecated and will be removed in a future version.\n",
      "Instructions for updating:\n",
      "Colocations handled automatically by placer.\n"
     ]
    },
    {
     "data": {
      "image/png": "[encoded data removed]",
      "text/plain": [
       "<Figure size 432x288 with 1 Axes>"
      ]
     },
     "metadata": {
      "needs_background": "light"
     },
     "output_type": "display_data"
    }
   ],
   "source": [
    "def test_cross_entropy():\n",
    "    target_2 = np.linspace(0, 0.5, 200)[:, None]\n",
    "    noise_data = np.random.uniform(-0.02, 0.02, target_2.shape)\n",
    "    \n",
    "    prediction_2 = np.square(target_2) + noise_data\n",
    "    \n",
    "    x = tf.placeholder(tf.float32, [None, 1])\n",
    "    y = tf.placeholder(tf.float32, [None, 1])\n",
    "    weight_layer1 = tf.Variable(tf.random_normal([1, 100]))\n",
    "    output_layer1 = tf.nn.sigmoid(tf.matmul(x, weight_layer1))\n",
    "\n",
    "    weight_layer2 = tf.Variable(tf.random_normal([100, 1]))\n",
    "    logits = tf.matmul(output_layer1, weight_layer2)\n",
    "    predicts = tf.nn.sigmoid(logits)\n",
    "\n",
    "    loss = tf.reduce_mean(tf.nn.sigmoid_cross_entropy_with_logits(labels=y, logits=logits))\n",
    "    train = tf.train.AdamOptimizer(0.01).minimize(loss)\n",
    "\n",
    "    with tf.Session() as session:\n",
    "        session.run(tf.global_variables_initializer())\n",
    "        for _ in range(1, 10000):\n",
    "            session.run(train, feed_dict={x: target_2, y: prediction_2})\n",
    "        plt.figure()\n",
    "        plt.scatter(target_2, prediction_2)\n",
    "        plt.scatter(target_2, session.run(predicts, feed_dict={x: target_2, y: prediction_2}), color='#EE82EE')\n",
    "        plt.show()\n",
    "\n",
    "\n",
    "if __name__ == \"__main__\":\n",
    "    test_cross_entropy()"
   ]
  },
  {
   "cell_type": "code",
   "execution_count": null,
   "metadata": {},
   "outputs": [],
   "source": []
  }
 ],
 "metadata": {
  "kernelspec": {
   "display_name": "Python 3",
   "language": "python",
   "name": "python3"
  },
  "language_info": {
   "codemirror_mode": {
    "name": "ipython",
    "version": 3
   },
   "file_extension": ".py",
   "mimetype": "text/x-python",
   "name": "python",
   "nbconvert_exporter": "python",
   "pygments_lexer": "ipython3",
   "version": "3.7.3"
  }
 },
 "nbformat": 4,
 "nbformat_minor": 2
}
